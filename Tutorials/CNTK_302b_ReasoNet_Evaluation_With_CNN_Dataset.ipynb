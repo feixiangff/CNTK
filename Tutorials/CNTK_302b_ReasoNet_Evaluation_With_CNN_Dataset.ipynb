{
 "cells": [
  {
   "cell_type": "markdown",
   "metadata": {
    "deletable": true,
    "editable": true
   },
   "source": [
    "# CNTK 302b: Evaluation ReasoNet for Machine Comprehension with CNN Dataset\n",
    "\n"
   ]
  },
  {
   "cell_type": "markdown",
   "metadata": {
    "deletable": true,
    "editable": true
   },
   "source": [
    "## Data preparation\n",
    "\n",
    "### Download data\n"
   ]
  },
  {
   "cell_type": "code",
   "execution_count": 15,
   "metadata": {
    "collapsed": false,
    "deletable": true,
    "editable": true
   },
   "outputs": [
    {
     "name": "stdout",
     "output_type": "stream",
     "text": [
      "All necessary data are downloaded to ../Examples/LanguageUnderstanding/ReasoNet/Data\n"
     ]
    }
   ],
   "source": [
    "import os\n",
    "import sys\n",
    "sys.path.insert(0, \"../Examples/LanguageUnderstanding/\")\n",
    "from ReasoNet.prepare_cnn_data import file_exists,merge_files,download_cnn\n",
    "data_root = \"../Examples/LanguageUnderstanding/ReasoNet/Data\"\n",
    "raw_train_data=os.path.join(data_root, \"cnn/training.txt\")\n",
    "raw_test_data=os.path.join(data_root, \"cnn/test.txt\")\n",
    "if not (file_exists(raw_train_data) and file_exists(raw_test_data)):\n",
    "  download_cnn(data_root)\n",
    "\n",
    "merge_files(os.path.join(data_root, \"cnn/questions/training\"), raw_train_data)\n",
    "merge_files(os.path.join(data_root, \"cnn/questions/test\"), raw_test_data)\n",
    "print(\"All necessary data are downloaded to {0}\".format(data_root))"
   ]
  },
  {
   "cell_type": "markdown",
   "metadata": {
    "deletable": true,
    "editable": true
   },
   "source": [
    "### Convert to CNTK Text Format\n"
   ]
  },
  {
   "cell_type": "code",
   "execution_count": 16,
   "metadata": {
    "collapsed": false,
    "deletable": true,
    "editable": true
   },
   "outputs": [
    {
     "name": "stdout",
     "output_type": "stream",
     "text": [
      "Data conversion finished.\n"
     ]
    }
   ],
   "source": [
    "from ReasoNet.wordvocab import *\n",
    "vocab_path=os.path.join(data_root, \"cnn/cnn.vocab\")\n",
    "train_ctf=os.path.join(data_root, \"cnn/training.ctf\")\n",
    "test_ctf=os.path.join(data_root, \"cnn/test.ctf\")\n",
    "vocab_size=101000\n",
    "if not (file_exists(train_ctf) and file_exists(test_ctf)):\n",
    "  entity_vocab, word_vocab = Vocabulary.build_vocab(raw_train_data, vocab_path, vocab_size)\n",
    "  Vocabulary.build_corpus(entity_vocab, word_vocab, raw_test_data, test_ctf)\n",
    "print(\"Data conversion finished.\")"
   ]
  },
  {
   "cell_type": "markdown",
   "metadata": {
    "deletable": true,
    "editable": true
   },
   "source": [
    "### Download model"
   ]
  },
  {
   "cell_type": "code",
   "execution_count": 17,
   "metadata": {
    "collapsed": false
   },
   "outputs": [
    {
     "name": "stdout",
     "output_type": "stream",
     "text": [
      "Succeeded to download model to local.\n"
     ]
    }
   ],
   "source": [
    "import io\n",
    "import os\n",
    "import re\n",
    "import requests\n",
    "import sys\n",
    "import shutil\n",
    "def download_model(src, target):\n",
    "  target_dir=os.path.dirname(target)\n",
    "  if not os.path.exists(target_dir):\n",
    "    os.makedirs(target_dir)    \n",
    "  url=src\n",
    "  print(\"Start to download model data from {0} to {1}\".format(url, target))\n",
    "  request = requests.get(url)\n",
    "  with open(target, mode='wb') as outf:\n",
    "    outf.write(request.content)\n",
    "  \n",
    "  print(\"Finished to download {0} to {1}\".format(url, target))\n",
    "\n",
    "model_src=\"http://cntk.ai/jup/models/reasonet/model_cnn.epoch.00.bin\"\n",
    "model_path=\"models/model_cnn.epoch.00.bin\"\n",
    "if not file_exists(model_path):\n",
    "  download_model(model_src, model_path)\n",
    "print(\"Succeeded to download model to local.\")"
   ]
  },
  {
   "cell_type": "markdown",
   "metadata": {
    "deletable": true,
    "editable": true
   },
   "source": [
    "## Basic CNTK imports"
   ]
  },
  {
   "cell_type": "code",
   "execution_count": 18,
   "metadata": {
    "collapsed": false,
    "deletable": true,
    "editable": true
   },
   "outputs": [
    {
     "data": {
      "text/plain": [
       "True"
      ]
     },
     "execution_count": 18,
     "metadata": {},
     "output_type": "execute_result"
    }
   ],
   "source": [
    "import sys\n",
    "from datetime import datetime\n",
    "import numpy as np\n",
    "import cntk\n",
    "from cntk import device\n",
    "from cntk.ops import sequence, element_times, reshape, greater, slice, hardmax, input\n",
    "\n",
    "# Check for an environment variable defined in CNTK's test infrastructure\n",
    "envvar = 'CNTK_EXTERNAL_TESTDATA_SOURCE_DIRECTORY'\n",
    "def is_test(): return envvar in os.environ\n",
    "\n",
    "# Select the right target device when this notebook is being tested\n",
    "# Currently supported only for GPU \n",
    "\n",
    "if 'TEST_DEVICE' in os.environ:\n",
    "    if os.environ['TEST_DEVICE'] == 'cpu':\n",
    "        raise ValueError('This notebook is currently not support on CPU') \n",
    "    else:\n",
    "        cntk.device.set_default_device(cntk.device.gpu(0))\n",
    "cntk.device.set_default_device(cntk.device.gpu(0))"
   ]
  },
  {
   "cell_type": "markdown",
   "metadata": {
    "deletable": true,
    "editable": true
   },
   "source": [
    "### Predict\n",
    "After we get the model, we can use it to predict answers given a paragraph and a query. "
   ]
  },
  {
   "cell_type": "code",
   "execution_count": 19,
   "metadata": {
    "collapsed": true,
    "deletable": true,
    "editable": true
   },
   "outputs": [],
   "source": [
    "from ReasoNet.reasonet import *\n",
    "def predict(model, params):\n",
    "  \"\"\"\n",
    "  Compute the prediction result of the given model\n",
    "  \"\"\"\n",
    "  model_args = {arg.name:arg for arg in model.arguments}\n",
    "  context = model_args['context']\n",
    "  entity_ids_mask = model_args['entity_ids_mask']\n",
    "  entity_condition = greater(entity_ids_mask, 0, name='condidion')\n",
    "  # Get all the enities in the paragraph via gather operator, which will create a new dynamic sequence axis\n",
    "  entities_all = sequence.gather(entity_condition, entity_condition, name='entities_all')\n",
    "  # The generated dynamic axis has the same length as the input enity id sequence,\n",
    "  # so we asign it as the entity id's dynamic axis.\n",
    "  entity_ids = input(shape=(params.entity_dim), is_sparse=True,\n",
    "                              dynamic_axes=entities_all.dynamic_axes, name='entity_ids')\n",
    "  wordvocab_dim = params.vocab_dim\n",
    "  answers = sequence.scatter(sequence.gather(model.outputs[-1], entity_condition), entities_all, name='Final_Ans')\n",
    "  # The id zero is used for unknown tokens, and entity ids start with 1. \n",
    "  # So we will trim the first column in the entity id matrix\n",
    "  entity_id_matrix = slice(reshape(entity_ids, params.entity_dim), -1, 1, params.entity_dim)\n",
    "  expand_pred = sequence.reduce_sum(element_times(answers, entity_id_matrix))\n",
    "  pred_max = hardmax(expand_pred, name='pred_max')\n",
    "  return pred_max\n"
   ]
  },
  {
   "cell_type": "markdown",
   "metadata": {
    "deletable": true,
    "editable": true
   },
   "source": [
    "#### Mapping the prediction to entities\n",
    "The prediction result is a one hot vector that 1 means the entity at that position is the predicted answer and 0 means not. To make the predition result readable, we need to convert that vector to entity id and remapping it back to the real entity."
   ]
  },
  {
   "cell_type": "code",
   "execution_count": 20,
   "metadata": {
    "collapsed": false,
    "deletable": true,
    "editable": true
   },
   "outputs": [
    {
     "name": "stdout",
     "output_type": "stream",
     "text": [
      "Log with log file: log/cnn_test_03-30_02.24.13.log\n",
      ".....\n",
      "Evaluated samples: 5 in 2.7899999991059303 seconds\n",
      "===============\n",
      "[0] Doc: @entity3 ( @entity2 ) @entity1 heavyweight boxing champion @entity0 has an important title defense coming up , but his thoughts continue to be dominated by the ongoing fight for democracy in @entity8 . speaking to @entity2 from his @entity3 training base ahead of the april 25 showdown with @entity12 challenger @entity11 in @entity13 , @entity0 said the crisis in his homeland has left him shocked and upset . \" my country is unfortunately suffering in the war with @entity18 -- not that @entity8 tried to give any aggression to any other nation , in this particular case @entity18 , unfortunately it 's the other way around , \" @entity0 told @entity2 . \" i never thought that our brother folk is going to have war with us , so that @entity8 and @entity18 are going to be divided with blood , \" he added . \" unfortunately , we do n't know how far it 's going to go and how worse it 's going to get . the aggression , in the military presence of ( @entity18 ) soldiers and military equipment in my country , @entity8 , is upsetting . \" @entity0 is the reigning @entity33 , @entity34 , @entity35 and @entity36 champion and has , alongside older brother @entity37 , dominated the heavyweight division in the 21st century . @entity37 , who retired from boxing in 2013 , is a prominent figure in @entity8 politics . the 43 - year - old has led the @entity43 since 2010 and was elected mayor of @entity45 in may last year . tensions in the former @entity48 state remain high despite a ceasefire agreed in february as @entity50 , led by @entity52 chancellor @entity51 and president of france @entity53 , tries to broker a peace deal between the two sides . the crisis in @entity8 began in november 2013 when former president @entity58 scuttled a trade deal with the @entity60 in favor of forging closer economic ties with @entity18 . the move triggered a wave of anti-government protests which came to a head @entity45 's @entity67 in february 2014 when clashes between protesters and government security forces left around 100 dead . the following month , @entity18 troops entered @entity8 's @entity74 peninsula before @entity18 president @entity75 completed the annexation of @entity74 -- a move denounced by most of the world as illegitimate -- after citizens of the region had voted in favor of leaving @entity8 in a referendum . more than 5,000 people have been killed in the conflict to date . \" people are dying in @entity8 every single day , \" @entity0 said . \" i do not want to see it , nobody wants to see it ... it 's hard to believe these days something like that in @entity50 -- and @entity8 is @entity50 -- can happen . \" but with the backing of the international community , @entity0 is confident @entity8 can forge a democratic future rather than slide back towards a @entity48 - era style dictatorship . \" i really wish and want this conflict to be solved and it can only be solved with @entity98 help , \" he said . \" @entity8 is looking forward to becoming a democratic country and live under @entity98 democracy . this is our decision and this is our will to get what we want . \" if somebody wants to try to put ( us ) back to the @entity48 times and be part of the @entity108 , we disagree with that . we want to be in freedom . \" we have achieved many things in moving forward and showed to the world that we do not want to live under a dictatorship . \" @entity0 , whose comments were made as part of a wide - ranging interview for @entity2 's @entity118 series , is routinely kept abreast of developments in @entity8 by brother @entity37 but also returns home whenever he can . \" as much time as i can spend , i am there in the @entity8 . it 's not like i am getting the news from mass media and making my own adjustments and judgments on what 's going on . it 's an actual presence and understanding from the inside ... it obviously affects my life , it affects the life of my family . \" the 39 - year - old and his fiancée @entity137 celebrated happier times last december when the @entity12 actress gave birth to a baby daughter , @entity142 . \" i need to get used to it that i 'm a father , which is really exciting . i hope i 'm going to have a big family with multiple kids , \" he said . @entity0 is n't sure when he 'll finally hang up his gloves . \" i do n't know how long i can last ... motivation and health have to be there to continue . \" but after leaving almost all his boxing opponents battered and bruised -- the @entity8 is seeking an impressive 18th consecutive title defense against @entity11 -- @entity0 is keen to carry on fighting his own and his country 's corner in the opposite way outside the ring . \" i just really want that we 'll have less violence in the world ... i hope in peace we can do anything , but if we have war then it 's definitely going to leave us dull and numb . \" watch @entity0 's @entity118 interview on @entity2 's @entity165 on wednesday april 8 at 1130 , 1245 , 1445 , 2130 , 2245 and 2345 and thursday april 9 at 0445 ( all times gmt ) and here online .\n",
      " Query: @placeholder faces @entity12 challenger @entity11 in @entity13 on april 25\n",
      " Answer: @entity0\n",
      " Expected: @entity0\n",
      "\n",
      "===============\n",
      "[1] Doc: ( @entity0 ) it was a masterful performance . i watched in awe on thursday as cardiothoracic surgeon and celebrity talk show host @entity4 surfed a gargantuan wave of criticism to shore . i should have expected that dr. @entity4 would keep standing in the face of charges from a group of colleagues that he pushed \" quack treatments ... for personal financial gain . \" and thanks to the ineptitude of his critics this round , he may have actually boosted his media empire . but he 's increasingly serving himself at a cost to @entity24 and @entity25 . if dr. @entity4 was ever going to go down , surely his ship would 've sunk last summer in the wake of his disastrous testimony before a @entity30 subcommittee . he was ostensibly invited to speak as an expert witness about bogus weight loss products , but sen. @entity33 , chairwoman of the @entity30 's @entity34 , instead made him her chief example of the kind of snake oil salesmen that keep hoodwinking consumers into thinking there 's a quick fix for their expanding waistlines . @entity43 subsequently eviscerated @entity4 on his hit @entity45 show \" @entity46 . \" in a segment that 's now garnered over 6 million @entity49 views , @entity43 makes quick work of @entity4 's claims about \" magic \" green coffee beans , a product that 's now earned a $ 9 million @entity55 fine for its false marketing claims . despite his utter humiliation , dr. @entity4 soldiered on , with his university and hospital continuing to stand by him , and with @entity61 and @entity62 , who co-produce \" the dr. @entity64 , \" fully behind his program . if the @entity30 could n't bring him down , what made this particular collection of 10 doctors think they could do it with their recent letter to @entity24 , where dr. @entity4 holds a tenured professorship and administrative position in the @entity74 and performs his duties at @entity24 - affiliated @entity25 ? the doctors insisted that the university must disassociate itself from dr. @entity4 for his now well - established tendency to promote cure - alls more befitting 1915 than 2015 . turnabout is fair play . and @entity4 and his producers responded with alacrity , slicing and dicing his ill - prepared challengers with an investigative segment that would 've made \" @entity86 \" proud . he and his team score points with me for pointing out the media 's own failings in delightedly circulating the letter without looking into the backgrounds of anyone involved . it 's a simple matter to question ulterior motives when the letter itself takes pains to highlight @entity4 's critical attitude toward gmo foods , not one of his greatest indiscretions by a long shot . dr. @entity4 after all has conducted experiments on his tv audience , apparently in violation of the rules of his own academic medical center . he has a propensity to spout laughably definitive statements with little to no scientific support , such as his advice that \" every kid in @entity115 ought to be on @entity117 fatty acids and @entity118 from either the sun or a pill \" because this regimen will help them withstand concussions . instead of mounting a defense of the indefensible claims he delivers so easily and often , dr. @entity4 routed his critics by quickly pivoting to the undercurrents of their letter . he correctly pointed out that several of the letter 's signatories are @entity133 industry shills . one of the writers campaigned against a @entity136 proposition requiring @entity133 labeling , and one of the bunch even served time for felony medicaid fraud . these characters never stood a chance in tipping the scales against dr. @entity4 , but they got their headlines nonetheless . dr. @entity4 was able to transition their critique of his apparent disregard for science on his program into an easily vanquished attack on his straightforward stand for consumers ' right to accurate product labeling . when my wife first brought the letter to my attention , i immediately wanted to know whether these were @entity24 physicians . this whole affair would 've played out quite differently if a slate of credible colleagues based at his own institution were coming out against dr. oz. so far they 've made no demand for his resignation , though some colleagues made their discomfort public in an op - ed for @entity169 last week . dr. @entity4 is well - aware that some colleagues question him , discussing that tension in his @entity172 op - ed. he says he does n't expect all physicians to understand his approach to health promotion , where he 's willing to entertain just about everything , even seances . the closed , physician - only social network @entity179 issued dr. @entity4 numerous questions from its membership , none of which dr. @entity4 answered . they are revelatory of physician attitudes toward him nonetheless . one doc asked dr. @entity4 how he could keep up with the fast - changing world of cardiothoracic surgery and carry on with his show every weekday . another asked him how he knows so much about so many areas of medicine -- \" @entity193 certified n all these areas ? \" . both types of questions show the profound disconnect between most physicians , who tend not to speak unless they are certain in their expertise on a topic , and the way the media industry works . dr. @entity4 's show does n't require he stay up late at night prepping for the next day -- he has an office full of production staff behind him . let 's take it as a given that not every physician across @entity115 , or at @entity24 , has to agree with what dr. @entity4 says on his program . i certainly do n't . does he have the right to say it ? yes , but not without challenge . a real case can be made that dr. @entity4 has used his media megaphone to do harm as well as good . he is now a polarizing figure , and while @entity24 should be lauded for protecting the free speech of its academic staff , the equation with dr. @entity4 is becoming increasingly complex . he 's no longer simply good pr for the @entity24 and @entity25 , which is often featured in his show . the letter writers were correct about one thing : @entity24 's reputation is now linked with the @entity226 standing right out in front .\n",
      " Query: he says @entity4 scorned by some in medical community , at @placeholder hearing ; comics joke about him . he serves himself at cost to his hospital\n",
      " Answer: @entity30\n",
      " Expected: @entity30\n",
      "\n",
      "===============\n",
      "[2] Doc: ( @entity1 ) @entity0 is a cornerstone event in the @entity3 faith , but it 's surrounded by interesting quirks . it celebrates the completion of @entity8 's mission of salvation in the @entity10 and @entity11 . by dying on @entity12 , @entity8 atoned for the sins of others ; by rising from the grave on sunday , @entity8 conquered death . simple enough and reason for @entity18 to celebrate . but , like @entity19 with its tree , ornaments and @entity22 , @entity0 has picked up its peripheral trappings -- the bunny and colorful eggs . unlike @entity19 , it does n't fall on the same day every year but shifts around in spring depending upon cosmic events . and that blood moon we just had -- is it pure coincidence that it fell around @entity0 ? ( no. ) here 's a journey from the @entity32 to the @entity33 , around the moon and the @entity36 's tilting axis , to @entity37 and the @entity38 to try to explain the complex holiday called @entity0 . and you 'll learn to how to color easter eggs with kool - aid . let 's start at the @entity32 . at the @entity32 , @entity44 began with @entity45 last week and culminated in @entity46 with multiple celebrations in between to mark the final week of @entity8 's mortal life . @entity8 rode on the back of a donkey into @entity52 on @entity45 where crowds celebrated him as the @entity55 and laid down palm branches in his path . but the crowd and the @entity59 turned on him in the course of the week , according to the @entity61 , leading to his crucifixion and resurrection . rain sprinkled down on worshipers standing under a sea of umbrellas as they gathered in a gray @entity68 on sunday to partake in the outdoor services held by @entity71 . afterward , the @entity72 took a moment to tell the world to do right those in need in his @entity78 address . @entity71 lamented the suffering of people in many of the conflicts around the globe . from @entity84 to @entity85 , @entity86 to @entity87 , he expressed hope that violence would end . @entity71 also does n't put on airs . this week he washed the feet of believers , repeating the @entity61 account of a woman , a sinner , washing @entity8 ' feet and anointing them with oil . let 's move on to old @entity52 , the birthplace of @entity0 . the church of the @entity100 in old @entity52 unifies the spot where @entity8 was crucified -- @entity102 -- with his tomb , or sepulcher . on sunday , @entity105 and @entity106 @entity18 celebrated the resurrection there . in the morning , the @entity109 , the archbishop of @entity52 , entered the basilica . then mass was held followed by a procession . but a large group of indigenous @entity18 did n't join them . it 's not quite @entity0 yet in the @entity33 for @entity116 . they 'll be celebrating a week from now , because they determine @entity0 's date by a different calendar than @entity18 -- the @entity120 . which brings us to the question of how astronomy is used to determine the date of @entity46 . a blood moon appeared in the sky early saturday , right between @entity12 and @entity46 and during @entity128 . just a coincidence ? not completely , because the dates for both @entity128 -- the @entity132 holiday celebrating the deliverance from slavery in @entity135 -- and @entity0 are determined by moon phases , according to @entity137 . @entity0 's timing is related to @entity128 , because @entity8 was crucified around then , according to the @entity61 . many jewish holidays , including @entity128 , fall on full moon , which is also a prerequisite for a lunar eclipse , the event that turns the moon a blood red color . since the timing of moon phases does n't jibe with @entity36 's orbit -- which is how we determine the length of a year now -- @entity128 's exact date moves around -- and so does @entity0 's . when @entity3 bishops first convened at the @entity153 in the year 325 , they made a rule to determine the date of @entity0 , so as to fairly reliably pin it to @entity128 : it would fall on the first sunday after the first full moon following the vernal equinox . that 's the day in march when @entity36 's axis reaches a midpoint between winter and summer and the day and night are of equal length . but ... if the full moon fell on sunday , @entity0 would be pushed down a week . confusing ? it got worse . when the @entity164 moved from the @entity120 to the gregorian calendar , @entity116 stayed put , resulting in -- usually -- two separate dates for @entity0 . in 1997 , the @entity167 pushed for a unified method of determining a date based on astronomical occurrences . it did n't catch on . but some odd @entity0 trappings that popped up after the @entity173 very much have -- the eggs and the bunny . the bunny is an egg - laying pagan that worships the moon . that 's one notion of its origins , but probably not the actual one . @entity37 immigrants appear to have brought it to @entity185 in the 1700s . @entity37 historians are not clear on its beginnings , but the first known mention of the bunny and the eggs in writing was in 1682 . professor of medicine @entity195 described in his paper \" @entity198 ovis paschalibus , \" or \" on easter eggs , \" a custom in the @entity202 region involving a bunny and eggs , according to @entity37 public television . some also credit the region with inadvertently inventing the christmas tree . but @entity195 left out any explanation of how the tradition arose , leading to a number of theories in @entity37 . one common idea : during @entity214 , people had to abstain from eating eggs , but hens kept on laying them , so farmers boiled and preserved them . by the time @entity0 rolled around , they were practically swimming in them . they had to figure out something to do with them when the holiday hit . play hide and seek with them ; color them ; give them as gifts . parents may have invented the bunny as a playful explanation for children on where the @entity0 eggs came from . if you 're coloring eggs this year , here 's an interesting tip. instead of stinking up your place with the smell of vinegar , use @entity241 , @entity243 science geek @entity242 suggests . and it appears to work . just use a whole packet in a small glass of hot water and gently lay the eggs in . they turn out as bright as they would in any other food dye . but be careful , it stains everything else , like clothes and upholstery , @entity242 warns . that 's why your tongue changes colors when you drink it . happy @entity0 ! happy @entity128 !\n",
      " Query: @entity0 is a key event in the @placeholder faith , but where did the @entity265 come from ?\n",
      " Answer: @entity3\n",
      " Expected: @entity3\n",
      "\n",
      "===============\n",
      "[3] Doc: ( @entity5 ) for those wondering if we would ever hear from the @entity4 family again , the answer would appear to be yes . \" @entity7 \" executive producer @entity6 said the show will return for a fifth season of 17 episodes . the @entity12 mogul was interviewed on @entity14 ' podcast recently , and let it drop that fans can expect more of the quirky comedy . @entity18 had no comment for @entity5 when asked to verify his statements . the fourth season was streamed exclusively on @entity18 in 2013 , after @entity23 canceled the show several years before . despite critical acclaim , the series never had big ratings , but has a devoted fan base , who often quote from the show . it was not yet known if the full cast , including @entity33 , @entity34 and @entity35 , will return for the season .\n",
      " Query: fan favorite series \" @placeholder \" to return for a fifth season , according to producer\n",
      " Answer: @entity7\n",
      " Expected: @entity7\n",
      "\n",
      "===============\n",
      "[4] Doc: april 2 , 2015 an unstable @entity1 country has become a potential battlefield for a proxy war . today on @entity4 , hear an explainer on why @entity6 is the focus of global concern . we also report on the origins of @entity11 , we detail how a 1,000 - year - old recipe could cure a modern - day superbug , and we feature a @entity14 on a woman who 's steering kids to a better life . on this page you will find today 's show transcript and a place for you to request to be on the @entity22 . transcript click here to access the transcript of today 's @entity25 . please note that there may be a delay between the time when the video is available and when the transcript is published . @entity4 is created by a team of journalists who consider the @entity33 , national standards in different subject areas , and state standards when producing the show . @entity38 for a chance to be mentioned on the next @entity4 , comment on the bottom of this page with your school name , mascot , city and state . we will be selecting schools from the comments of the previous show . you must be a teacher or a student age 13 or older to request a mention on the @entity22 ! thank you for using @entity56 student news !\n",
      " Query: at the bottom of the page , comment for a chance to be mentioned on @entity4 . you must be a teacher or a student age 13 or older to request a mention on the @placeholder .\n",
      " Answer: @entity22\n",
      " Expected: @entity22\n",
      "\n"
     ]
    }
   ],
   "source": [
    "import sys\n",
    "import os\n",
    "import cntk.device as device\n",
    "import numpy as np\n",
    "import math\n",
    "from cntk import load_model\n",
    "\n",
    "def pred_cnn_model(model_path):\n",
    "  logger.init(\"cnn_test\")\n",
    "  test_path = os.path.join(data_root, \"cnn/test.ctf\")\n",
    "  test_size=2291183\n",
    "  vocab_path = os.path.join(data_root, \"cnn/cnn.vocab\")\n",
    "  vocab_dim = 101585\n",
    "  entity_dim = 586\n",
    "  hidden_dim=256\n",
    "  max_rl_steps=5\n",
    "  embedding_dim=300\n",
    "  att_dim = 384\n",
    "  minibatch_size=1\n",
    "  share_rnn = True\n",
    "\n",
    "  test_data = create_reader(test_path, vocab_dim, entity_dim, False)\n",
    "  embedding_init = None\n",
    "\n",
    "  params = model_params(vocab_dim = vocab_dim, entity_dim = entity_dim, hidden_dim = hidden_dim,\n",
    "                        embedding_dim = embedding_dim, attention_dim=att_dim, max_rl_steps = max_rl_steps,\n",
    "                        embedding_init = embedding_init, dropout_rate = 0.2, share_rnn_param = share_rnn)\n",
    "\n",
    "  entity_table, word_table = Vocabulary.load_vocab(vocab_path)\n",
    "  model = load_model(model_path)\n",
    "  predict_func = predict(model, params)\n",
    "  bind = bind_data(predict_func, test_data)\n",
    "  context_stream = get_context_bind_stream(bind)\n",
    "  samples_sum = 0\n",
    "  i = 0\n",
    "  predicted_results = []\n",
    "  max_num = 5\n",
    "  start = os.times()\n",
    "  while i<test_size:\n",
    "    mbs = min(test_size - i, minibatch_size)\n",
    "    mb = test_data.next_minibatch(mbs, bind)\n",
    "    pred = predict_func.eval(mb)\n",
    "    # Convert entity one hot vector to entity id\n",
    "    ans = np.nonzero(pred)\n",
    "    # Remapping entity id to real entity\n",
    "    for id in ans[1]:\n",
    "      predicted_results += [ entity_table.lookup_by_id(id) ]    \n",
    "    i += mb[context_stream].num_samples\n",
    "    samples = mb[context_stream].num_sequences\n",
    "    samples_sum += samples\n",
    "    sys.stdout.write('.')\n",
    "    sys.stdout.flush()\n",
    "    if samples_sum >= max_num:\n",
    "      break\n",
    "  end = os.times()\n",
    "  total = end.elapsed - start.elapsed\n",
    "  print(\"\")\n",
    "  print(\"Evaluated samples: {0} in {1} seconds\".format(samples_sum, total))\n",
    "  raw_test_path = os.path.join(data_root, \"cnn/test.txt\")\n",
    "  instance_id = 0\n",
    "  with open(raw_test_path, 'r', encoding='utf-8') as raw:\n",
    "    content = raw.readlines()\n",
    "    for record in content:\n",
    "      fields = record.strip().split('\\t')\n",
    "      query = fields[0]\n",
    "      answer = fields[1]\n",
    "      doc = fields[2]\n",
    "      print(\"===============\")\n",
    "      print(\"[{0}] Doc: {1}\\n Query: {2}\\n Answer: {3}\\n Expected: {4}\".\\\n",
    "            format(instance_id, doc, query, predicted_results[instance_id], answer))\n",
    "      print()\n",
    "      instance_id+=1\n",
    "      if instance_id >= len(predicted_results):\n",
    "        break\n",
    "\n",
    "pred_cnn_model(model_path)"
   ]
  }
 ],
 "metadata": {
  "anaconda-cloud": {},
  "kernelspec": {
   "display_name": "Python [default]",
   "language": "python",
   "name": "python3"
  },
  "language_info": {
   "codemirror_mode": {
    "name": "ipython",
    "version": 3
   },
   "file_extension": ".py",
   "mimetype": "text/x-python",
   "name": "python",
   "nbconvert_exporter": "python",
   "pygments_lexer": "ipython3",
   "version": "3.4.4"
  }
 },
 "nbformat": 4,
 "nbformat_minor": 2
}
